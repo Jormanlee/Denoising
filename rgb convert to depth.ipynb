{
 "cells": [
  {
   "cell_type": "code",
   "execution_count": 17,
   "id": "24e7619e",
   "metadata": {},
   "outputs": [],
   "source": [
    "from PIL import Image"
   ]
  },
  {
   "cell_type": "code",
   "execution_count": 26,
   "id": "063f94c2",
   "metadata": {},
   "outputs": [],
   "source": [
    "img = Image.open(r'C:\\Users\\49162\\Desktop\\python\\images\\camera\\CameraImage_0001.png').convert('L')\n",
    "img.save(r'C:\\Users\\49162\\Desktop\\python\\images\\depth_image\\1.png')"
   ]
  },
  {
   "cell_type": "code",
   "execution_count": null,
   "id": "98e07b3b",
   "metadata": {},
   "outputs": [],
   "source": []
  }
 ],
 "metadata": {
  "kernelspec": {
   "display_name": "Python 3 (ipykernel)",
   "language": "python",
   "name": "python3"
  },
  "language_info": {
   "codemirror_mode": {
    "name": "ipython",
    "version": 3
   },
   "file_extension": ".py",
   "mimetype": "text/x-python",
   "name": "python",
   "nbconvert_exporter": "python",
   "pygments_lexer": "ipython3",
   "version": "3.9.7"
  }
 },
 "nbformat": 4,
 "nbformat_minor": 5
}
