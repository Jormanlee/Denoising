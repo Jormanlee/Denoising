{
 "cells": [
  {
   "cell_type": "code",
   "execution_count": 4,
   "id": "726903e5",
   "metadata": {},
   "outputs": [],
   "source": [
    "##Editor Qiuming Li\n",
    "import torch\n",
    "import torch.nn as nn\n",
    "import torch.utils as utils\n",
    "from torch.autograd import Variable\n",
    "import torchvision.datasets as dset\n",
    "import torchvision.transforms as transforms\n",
    "import numpy as np\n",
    "import matplotlib.pyplot as plt"
   ]
  },
  {
   "cell_type": "code",
   "execution_count": 5,
   "id": "2ad91045",
   "metadata": {},
   "outputs": [],
   "source": [
    "torch.manual_seed(1)\n",
    "##define Hyperparameter \n",
    "n_epoch=25\n",
    "batch_size=8\n",
    "learning_rate=0.0001"
   ]
  },
  {
   "cell_type": "code",
   "execution_count": 6,
   "id": "f3e19592",
   "metadata": {},
   "outputs": [],
   "source": [
    "mnist_train=dset.MNIST(\"./\",train=True,transform=transforms.ToTensor(),target_transform=None,download=True)\n",
    "train_loader=torch.utils.data.DataLoader(dataset=mnist_train,batch_size=batch_size,shuffle=True)"
   ]
  },
  {
   "cell_type": "code",
   "execution_count": 7,
   "id": "214f05ee",
   "metadata": {},
   "outputs": [],
   "source": [
    "## define encoder like downsampling in unet\n",
    "class Encoder(nn.Module):\n",
    "    def __init__(self):\n",
    "        super(Encoder,self).__init__()\n",
    "        self.layer1=nn.Sequential(\n",
    "            nn.Conv2d(1,32,3,padding=1),#batch*32*28*28\n",
    "            nn.ReLU(),\n",
    "            nn.BatchNorm2d(32),\n",
    "            nn.Conv2d(32,32,3,padding=1),#batch*32*28*28\n",
    "            nn.ReLU(),\n",
    "            nn.BatchNorm2d(32),\n",
    "            nn.Conv2d(32,64,3,padding=1),#batch*64*28*28\n",
    "            nn.ReLU(),\n",
    "            nn.BatchNorm2d(64),\n",
    "            nn.Conv2d(64,64,3,padding=1),#batch*64*28*28\n",
    "            nn.ReLU(),\n",
    "            nn.BatchNorm2d(64),\n",
    "            nn.MaxPool2d(2,2)#batch*64*14*14\n",
    "        )\n",
    "        self.layer2=nn.Sequential(\n",
    "            nn.Conv2d(64,128,3,padding=1),#batch*128*14*14\n",
    "            nn.ReLU(),\n",
    "            nn.BatchNorm2d(128),\n",
    "            nn.Conv2d(128,128,3,padding=1),#batch*128*14*14\n",
    "            nn.ReLU(),\n",
    "            nn.BatchNorm2d(128),\n",
    "            nn.MaxPool2d(2,2),\n",
    "            nn.Conv2d(128,256,3,padding=1),#batch*256*14*14\n",
    "            nn.ReLU()\n",
    "        )\n",
    "    def forward(self,x):\n",
    "        out=self.layer1(x)\n",
    "        out=self.layer2(out)\n",
    "        out=out.view(batch_size,-1)\n",
    "        return out\n",
    "\n",
    "encoder=Encoder().cuda()"
   ]
  },
  {
   "cell_type": "code",
   "execution_count": 8,
   "id": "2fdcddaf",
   "metadata": {},
   "outputs": [
    {
     "name": "stdout",
     "output_type": "stream",
     "text": [
      "epoch[1/25],loss:1.0769\n",
      "epoch[2/25],loss:0.8615\n",
      "epoch[3/25],loss:0.6337\n",
      "epoch[4/25],loss:0.3590\n",
      "epoch[5/25],loss:0.2197\n",
      "epoch[6/25],loss:0.1538\n",
      "epoch[7/25],loss:0.1310\n",
      "epoch[8/25],loss:0.1105\n",
      "epoch[9/25],loss:0.1157\n",
      "epoch[10/25],loss:0.1007\n",
      "epoch[11/25],loss:0.1047\n",
      "epoch[12/25],loss:0.0919\n",
      "epoch[13/25],loss:0.0944\n",
      "epoch[14/25],loss:0.0878\n",
      "epoch[15/25],loss:0.0906\n",
      "epoch[16/25],loss:0.0863\n",
      "epoch[17/25],loss:0.0849\n",
      "epoch[18/25],loss:0.0896\n",
      "epoch[19/25],loss:0.0818\n",
      "epoch[20/25],loss:0.0590\n",
      "epoch[21/25],loss:0.0756\n",
      "epoch[22/25],loss:0.0655\n",
      "epoch[23/25],loss:0.0757\n",
      "epoch[24/25],loss:0.0676\n",
      "epoch[25/25],loss:0.0590\n"
     ]
    }
   ],
   "source": [
    "##define Decoder like upsampling in unet\n",
    "class Decoder(nn.Module):\n",
    "    def __init__(self):\n",
    "        super(Decoder,self).__init__()\n",
    "        self.layer1=nn.Sequential(\n",
    "            nn.ConvTranspose2d(256,128,3,2,1,1),#batch*128*14*14\n",
    "            nn.ReLU(),\n",
    "            nn.BatchNorm2d(128),\n",
    "            nn.ConvTranspose2d(128,128,3,1,1),#batch*128*14*14\n",
    "            nn.ReLU(),\n",
    "            nn.BatchNorm2d(128),\n",
    "            nn.ConvTranspose2d(128,64,3,1,1),#batch*64*14*14\n",
    "            nn.ReLU(),\n",
    "            nn.BatchNorm2d(64),\n",
    "            nn.ConvTranspose2d(64,64,3,1,1),#batch*64*14*14\n",
    "            nn.ReLU(),\n",
    "            nn.BatchNorm2d(64)\n",
    "        )\n",
    "        self.layer2=nn.Sequential(\n",
    "            nn.ConvTranspose2d(64,32,3,1,1),#batch*32*14*14\n",
    "            nn.ReLU(),\n",
    "            nn.BatchNorm2d(32),\n",
    "            nn.ConvTranspose2d(32,32,3,1,1),#batch*32*14*14\n",
    "            nn.ReLU(),\n",
    "            nn.BatchNorm2d(32),\n",
    "            nn.ConvTranspose2d(32,1,3,2,1,1),#batch*1*28*28\n",
    "            nn.ReLU()\n",
    "        )\n",
    "    def forward(self,x):\n",
    "        out=x.view(batch_size,256,7,7)\n",
    "        out=self.layer1(out)\n",
    "        out=self.layer2(out)\n",
    "        return out\n",
    "decoder=Decoder().cuda()\n",
    "\n",
    "##Loss function and define Adam optimizer\n",
    "parameters=list(encoder.parameters())+list(decoder.parameters())\n",
    "loss_func=nn.MSELoss()\n",
    "optimizer=torch.optim.Adam(parameters,lr=learning_rate)\n",
    "\n",
    "###to train the model\n",
    "#add noise \n",
    "noise=torch.rand(batch_size,1,28,28)\n",
    "for I in range(n_epoch):\n",
    "    for image,label in train_loader:\n",
    "        image_n=torch.mul(image+0.25,0.1*noise)\n",
    "        image=Variable(image).cuda()\n",
    "        image_n=Variable(image_n).cuda()\n",
    "        optimizer.zero_grad()\n",
    "        output=encoder(image_n)\n",
    "        output=decoder(output)\n",
    "        loss=loss_func(output,image)\n",
    "        loss.backward()\n",
    "        optimizer.step()\n",
    "        break\n",
    "    print('epoch[{}/{}],loss:{:.4f}'.format(I+1,n_epoch,loss.item()))"
   ]
  },
  {
   "cell_type": "code",
   "execution_count": 9,
   "id": "eaa61965",
   "metadata": {},
   "outputs": [
    {
     "data": {
      "image/png": "[encoded data removed]",
      "text/plain": [
       "<Figure size 432x288 with 3 Axes>"
      ]
     },
     "metadata": {
      "needs_background": "light"
     },
     "output_type": "display_data"
    },
    {
     "name": "stdout",
     "output_type": "stream",
     "text": [
      "tensor(4)\n"
     ]
    }
   ],
   "source": [
    "img=image[0].cpu()\n",
    "input_img=image_n[0].cpu()\n",
    "output_img=output[0].cpu()\n",
    "origin=img.data.numpy()\n",
    "inp=input_img.data.numpy()\n",
    "out=output_img.data.numpy()\n",
    "plt.figure('denoising autoencoder')\n",
    "plt.subplot(131)\n",
    "plt.imshow(origin[0],cmap='gray')\n",
    "plt.subplot(132)\n",
    "plt.imshow(inp[0],cmap='gray')\n",
    "plt.subplot(133)\n",
    "plt.imshow(out[0],cmap='gray')\n",
    "plt.show()\n",
    "print(label[0])"
   ]
  },
  {
   "cell_type": "code",
   "execution_count": null,
   "id": "7726fb56",
   "metadata": {},
   "outputs": [],
   "source": []
  }
 ],
 "metadata": {
  "kernelspec": {
   "display_name": "Python 3 (ipykernel)",
   "language": "python",
   "name": "python3"
  },
  "language_info": {
   "codemirror_mode": {
    "name": "ipython",
    "version": 3
   },
   "file_extension": ".py",
   "mimetype": "text/x-python",
   "name": "python",
   "nbconvert_exporter": "python",
   "pygments_lexer": "ipython3",
   "version": "3.9.7"
  }
 },
 "nbformat": 4,
 "nbformat_minor": 5
}
